{
 "cells": [
  {
   "cell_type": "code",
   "execution_count": 1,
   "metadata": {},
   "outputs": [
    {
     "name": "stdout",
     "output_type": "stream",
     "text": [
      "8\n",
      "x_train shape: (60000, 28, 28, 1)\n",
      "Number of images in x_train 60000\n",
      "Number of images in x_test 10000\n",
      "WARNING:tensorflow:From C:\\Users\\dbda24\\AppData\\Local\\Continuum\\anaconda3\\lib\\site-packages\\keras\\backend\\tensorflow_backend.py:74: The name tf.get_default_graph is deprecated. Please use tf.compat.v1.get_default_graph instead.\n",
      "\n",
      "WARNING:tensorflow:From C:\\Users\\dbda24\\AppData\\Local\\Continuum\\anaconda3\\lib\\site-packages\\keras\\backend\\tensorflow_backend.py:517: The name tf.placeholder is deprecated. Please use tf.compat.v1.placeholder instead.\n",
      "\n",
      "WARNING:tensorflow:From C:\\Users\\dbda24\\AppData\\Local\\Continuum\\anaconda3\\lib\\site-packages\\keras\\backend\\tensorflow_backend.py:4138: The name tf.random_uniform is deprecated. Please use tf.random.uniform instead.\n",
      "\n",
      "WARNING:tensorflow:From C:\\Users\\dbda24\\AppData\\Local\\Continuum\\anaconda3\\lib\\site-packages\\keras\\backend\\tensorflow_backend.py:3976: The name tf.nn.max_pool is deprecated. Please use tf.nn.max_pool2d instead.\n",
      "\n",
      "WARNING:tensorflow:From C:\\Users\\dbda24\\AppData\\Local\\Continuum\\anaconda3\\lib\\site-packages\\keras\\backend\\tensorflow_backend.py:133: The name tf.placeholder_with_default is deprecated. Please use tf.compat.v1.placeholder_with_default instead.\n",
      "\n",
      "WARNING:tensorflow:From C:\\Users\\dbda24\\AppData\\Local\\Continuum\\anaconda3\\lib\\site-packages\\keras\\backend\\tensorflow_backend.py:3445: calling dropout (from tensorflow.python.ops.nn_ops) with keep_prob is deprecated and will be removed in a future version.\n",
      "Instructions for updating:\n",
      "Please use `rate` instead of `keep_prob`. Rate should be set to `rate = 1 - keep_prob`.\n",
      "WARNING:tensorflow:From C:\\Users\\dbda24\\AppData\\Local\\Continuum\\anaconda3\\lib\\site-packages\\keras\\optimizers.py:790: The name tf.train.Optimizer is deprecated. Please use tf.compat.v1.train.Optimizer instead.\n",
      "\n",
      "WARNING:tensorflow:From C:\\Users\\dbda24\\AppData\\Local\\Continuum\\anaconda3\\lib\\site-packages\\keras\\backend\\tensorflow_backend.py:3341: The name tf.log is deprecated. Please use tf.math.log instead.\n",
      "\n"
     ]
    },
    {
     "name": "stderr",
     "output_type": "stream",
     "text": [
      "Using TensorFlow backend.\n"
     ]
    },
    {
     "name": "stdout",
     "output_type": "stream",
     "text": [
      "WARNING:tensorflow:From C:\\Users\\dbda24\\AppData\\Local\\Continuum\\anaconda3\\lib\\site-packages\\tensorflow\\python\\ops\\math_grad.py:1250: add_dispatch_support.<locals>.wrapper (from tensorflow.python.ops.array_ops) is deprecated and will be removed in a future version.\n",
      "Instructions for updating:\n",
      "Use tf.where in 2.0, which has the same broadcast rule as np.where\n",
      "Epoch 1/10\n",
      "60000/60000 [==============================] - 45s 757us/step - loss: 0.2191 - acc: 0.9331\n",
      "Epoch 2/10\n",
      "60000/60000 [==============================] - 46s 766us/step - loss: 0.0905 - acc: 0.9721\n",
      "Epoch 3/10\n",
      "60000/60000 [==============================] - 43s 721us/step - loss: 0.0616 - acc: 0.9808\n",
      "Epoch 4/10\n",
      "60000/60000 [==============================] - 43s 718us/step - loss: 0.0466 - acc: 0.9846\n",
      "Epoch 5/10\n",
      "60000/60000 [==============================] - 43s 722us/step - loss: 0.0390 - acc: 0.9874\n",
      "Epoch 6/10\n",
      "60000/60000 [==============================] - 43s 721us/step - loss: 0.0335 - acc: 0.9891\n",
      "Epoch 7/10\n",
      "60000/60000 [==============================] - 43s 719us/step - loss: 0.0256 - acc: 0.9915\n",
      "Epoch 8/10\n",
      "60000/60000 [==============================] - 43s 717us/step - loss: 0.0255 - acc: 0.9914\n",
      "Epoch 9/10\n",
      "60000/60000 [==============================] - 43s 719us/step - loss: 0.0199 - acc: 0.9932\n",
      "Epoch 10/10\n",
      "60000/60000 [==============================] - 43s 721us/step - loss: 0.0201 - acc: 0.9932\n",
      "10000/10000 [==============================] - 1s 131us/step\n",
      "\n",
      "Predicted Number is : 9\n"
     ]
    }
   ],
   "source": [
    "import tkinter as tk\n",
    "from tkinter import filedialog,Text\n",
    "import os\n",
    "import matplotlib.pyplot as plt\n",
    "from ipynb.fs.full.MyNN import predict1\n"
   ]
  },
  {
   "cell_type": "code",
   "execution_count": 348,
   "metadata": {},
   "outputs": [],
   "source": [
    "'''import matplotlib.pyplot as plt\n",
    "\n",
    "def predict1():\n",
    "    input2=inputs.get()\n",
    "    fig=plt.imshow(x_test[input2].reshape(28, 28),cmap='Greys')\n",
    "    #plt.show()\n",
    "    plt.savefig('abc.png')\n",
    "    pred = model.predict(x_test[input2].reshape(1, 28, 28, 1))\n",
    "    print('\\nPredicted Number is : '+str(pred.argmax()))\n",
    "    \n",
    "    \n",
    "    photo=tk.PhotoImage(file=\"abc.png\")\n",
    "    label5=Label(root,image=photo,bg=\"powder blue\").place(x=15,y=295,width=250, height=270)\n",
    "    label5.show()'''\n",
    "    "
   ]
  },
  {
   "cell_type": "code",
   "execution_count": 2,
   "metadata": {},
   "outputs": [],
   "source": [
    "'''def predict():\n",
    "    \n",
    "    input2=inputs.get()\n",
    "    fig=plt.imshow(x_test[input2].reshape(28, 28),cmap='Greys')\n",
    "    plt.savefig('abc.png')\n",
    "    pred = model.predict(x_test[input2].reshape(1, 28, 28, 1))\n",
    "    photo=tk.PhotoImage(file=\"abc.png\")\n",
    "    label1=Label(root,image=photo,bg=\"powder blue\").place(x=15,y=295,width=250, height=270)\n",
    "    \n",
    "    \n",
    "    v = tk.IntVar()\n",
    "    a=pred.argmax()\n",
    "    v.set(a)\n",
    "    label2=tk.Label(root,text=\"Predicted Number is : \", font=(\"ariel\",16,\"bold italic\"),fg=\"black\",bg=\"powder blue\").place(x=265,y=540)\n",
    "    label3=tk.Label(root, textvariable=v,font=(\"ariel\",26,\"bold\"),fg=\"black\",bg=\"powder blue\").place(x=500,y=525)\n",
    "    #label2.pack()\n",
    "    #label3.pack()\n",
    "    label1.pack()'''\n",
    "    "
   ]
  },
  {
   "cell_type": "code",
   "execution_count": 3,
   "metadata": {},
   "outputs": [],
   "source": [
    "import sys\n",
    "\n",
    "import tkinter as tk\n",
    "from tkinter import *\n",
    "\n",
    "#from PIL import ImageTk, Image\n",
    "\n",
    "\n",
    "#root=tk.Toplevel()\n",
    "#canvas=Canvas(root,width=640,height=640)\n",
    "#canvas.pack()\n",
    "#background_image=Image.open(\"C:\\\\Users\\\\dbda24\\\\tmp\\\\data\\\\pix.png\")\n",
    "#ph=ImageTk.PhotoImage(background_image)\n",
    "\n",
    "#label = Label(root, image=ph)\n",
    "#label.image=ph \n",
    "#canvas.create_image(0,0,anchor=NW,image=ph)\n",
    "\n",
    "#background_label = tk.Label(root, image=background_image)\n",
    "#background_label.place(x=0, y=0, relwidth=1, relheight=1)\n",
    "\n",
    "root=tk.Tk()\n",
    "root[\"bg\"] = \"powder blue\"\n",
    "root.title(\"Iacsd.\")\n",
    "root.geometry(\"640x640+0+0\")\n",
    "\n",
    "Heading=tk.Label(root,text=\"Project for Iacsd.\", font=(\"Times New Roman\",40,\"bold\"),fg=\"red\",bg=\"powder blue\").pack()\n",
    "\n",
    "photo=tk.PhotoImage(file=\"iacsd.png\")\n",
    "label3=Label(root,image=photo,bg=\"powder blue\").place(x=0,y=52,width=130, height=130)\n",
    "\n",
    "photo1=tk.PhotoImage(file=\"actslogo.png\")\n",
    "label4=Label(root,image=photo1,bg=\"powder blue\").place(x=370,y=80,width=266, height=102)\n",
    "\n",
    "\n",
    "label1=tk.Label(root,text=\"Enter index of image from Dataset [0:9999] :\",font=(\"Times\",16,\"bold\"),fg=\"black\",bg=\"powder blue\").place(x=15,y=195)\n",
    "labeln=tk.Label(root,text=\"DBDA Group no-18 =>   Shubham Vohra  & Kapil tayde\",bd=1,relief=SUNKEN,fg=\"red\",bg=\"powder blue\",font=(\"Times\",15,\"italic\")).pack(side=BOTTOM,fill=X)\n"
   ]
  },
  {
   "cell_type": "code",
   "execution_count": 4,
   "metadata": {},
   "outputs": [],
   "source": [
    "\n",
    "inputs=tk.IntVar()\n",
    "entrybox=tk.Entry(root,textvariable=inputs,width=25,bg=\"lightgreen\").place(x=445,y=202)\n",
    "#inputs.delete(0, END)\n"
   ]
  },
  {
   "cell_type": "code",
   "execution_count": 5,
   "metadata": {},
   "outputs": [],
   "source": [
    "viewbutton=tk.Button(root,text=\"View Image\",font=(\"ariel\",10,\"bold\"),padx=50,pady=10,fg=\"black\",bg=\"steelblue\",command=predict1).place(x=140,y=240)\n",
    "prebutton=tk.Button(root,text=\"Predict\",font=(\"ariel\",10,\"bold\"),padx=60,pady=10,fg=\"black\",bg=\"steelblue\",command=predict).place(x=400,y=240)\n",
    "root.mainloop()"
   ]
  },
  {
   "cell_type": "code",
   "execution_count": null,
   "metadata": {},
   "outputs": [],
   "source": []
  },
  {
   "cell_type": "code",
   "execution_count": null,
   "metadata": {},
   "outputs": [],
   "source": []
  }
 ],
 "metadata": {
  "kernelspec": {
   "display_name": "Python 3",
   "language": "python",
   "name": "python3"
  },
  "language_info": {
   "codemirror_mode": {
    "name": "ipython",
    "version": 3
   },
   "file_extension": ".py",
   "mimetype": "text/x-python",
   "name": "python",
   "nbconvert_exporter": "python",
   "pygments_lexer": "ipython3",
   "version": "3.7.3"
  }
 },
 "nbformat": 4,
 "nbformat_minor": 2
}
